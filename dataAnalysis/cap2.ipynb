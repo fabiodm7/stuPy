{
 "metadata": {
  "language_info": {
   "codemirror_mode": {
    "name": "ipython",
    "version": 3
   },
   "file_extension": ".py",
   "mimetype": "text/x-python",
   "name": "python",
   "nbconvert_exporter": "python",
   "pygments_lexer": "ipython3",
   "version": "3.8.10"
  },
  "orig_nbformat": 4,
  "kernelspec": {
   "name": "python3",
   "display_name": "Python 3.8.10 64-bit"
  },
  "interpreter": {
   "hash": "31f2aee4e71d21fbe5cf8b01ff0e069b9275f58929596ceb00d14d90e3e16cd6"
  }
 },
 "nbformat": 4,
 "nbformat_minor": 2,
 "cells": [
  {
   "cell_type": "code",
   "execution_count": 2,
   "metadata": {},
   "outputs": [
    {
     "output_type": "execute_result",
     "data": {
      "text/plain": [
       "'\\nExemplos e exercícios do capítulo 2 do livro \"Python para análise de dados\"\\nde Wes McKinney, traduzido por Novatec\\n\\nBásico da linguagem Python, IPython e notebooks Jupyter\\n'"
      ]
     },
     "metadata": {},
     "execution_count": 2
    }
   ],
   "source": [
    "'''\n",
    "Exemplos e exercícios do capítulo 2 do livro \"Python para análise de dados\"\n",
    "de Wes McKinney, traduzido por Novatec\n",
    "\n",
    "Básico da linguagem Python, IPython e notebooks Jupyter\n",
    "'''"
   ]
  },
  {
   "cell_type": "code",
   "execution_count": 2,
   "metadata": {},
   "outputs": [
    {
     "output_type": "stream",
     "name": "stdout",
     "text": [
      "Hello, world!\n"
     ]
    }
   ],
   "source": [
    "print('Hello, world!')"
   ]
  },
  {
   "cell_type": "code",
   "execution_count": 3,
   "metadata": {},
   "outputs": [],
   "source": [
    "an_apple = 27"
   ]
  },
  {
   "cell_type": "code",
   "execution_count": 4,
   "metadata": {},
   "outputs": [],
   "source": [
    "an_example = 42"
   ]
  },
  {
   "cell_type": "code",
   "execution_count": 5,
   "metadata": {},
   "outputs": [],
   "source": [
    "b = [1,2,3]"
   ]
  },
  {
   "cell_type": "code",
   "execution_count": 6,
   "metadata": {},
   "outputs": [
    {
     "output_type": "stream",
     "text": [
      "\u001b[0;31mType:\u001b[0m        list\n",
      "\u001b[0;31mString form:\u001b[0m [1, 2, 3]\n",
      "\u001b[0;31mLength:\u001b[0m      3\n",
      "\u001b[0;31mDocstring:\u001b[0m  \n",
      "Built-in mutable sequence.\n",
      "\n",
      "If no argument is given, the constructor creates a new empty list.\n",
      "The argument must be an iterable if specified.\n"
     ],
     "name": "stdout"
    }
   ],
   "source": [
    "# Instropecção\n",
    "b?"
   ]
  },
  {
   "cell_type": "code",
   "execution_count": 7,
   "metadata": {},
   "outputs": [
    {
     "output_type": "stream",
     "text": [
      "\u001b[0;31mDocstring:\u001b[0m\n",
      "print(value, ..., sep=' ', end='\\n', file=sys.stdout, flush=False)\n",
      "\n",
      "Prints the values to a stream, or to sys.stdout by default.\n",
      "Optional keyword arguments:\n",
      "file:  a file-like object (stream); defaults to the current sys.stdout.\n",
      "sep:   string inserted between values, default a space.\n",
      "end:   string appended after the last value, default a newline.\n",
      "flush: whether to forcibly flush the stream.\n",
      "\u001b[0;31mType:\u001b[0m      builtin_function_or_method\n"
     ],
     "name": "stdout"
    }
   ],
   "source": [
    "print?"
   ]
  },
  {
   "cell_type": "code",
   "execution_count": 8,
   "metadata": {},
   "outputs": [],
   "source": [
    "def add_numbers(a,b):\n",
    "    '''\n",
    "    Add two numbers together\n",
    "\n",
    "    Returns\n",
    "    -------\n",
    "    the_sum: type of arguments\n",
    "    '''\n",
    "    return a + b"
   ]
  },
  {
   "cell_type": "code",
   "execution_count": 9,
   "metadata": {},
   "outputs": [
    {
     "output_type": "stream",
     "text": [
      "\u001b[0;31mSignature:\u001b[0m \u001b[0madd_numbers\u001b[0m\u001b[0;34m(\u001b[0m\u001b[0ma\u001b[0m\u001b[0;34m,\u001b[0m \u001b[0mb\u001b[0m\u001b[0;34m)\u001b[0m\u001b[0;34m\u001b[0m\u001b[0;34m\u001b[0m\u001b[0m\n",
      "\u001b[0;31mDocstring:\u001b[0m\n",
      "Add two numbers together\n",
      "\n",
      "Returns\n",
      "_____\n",
      "the_sum: type of arguments\n",
      "\u001b[0;31mFile:\u001b[0m      ~/Documentos/stuPy/<ipython-input-8-1250c2acd814>\n",
      "\u001b[0;31mType:\u001b[0m      function\n"
     ],
     "name": "stdout"
    }
   ],
   "source": [
    "add_numbers?"
   ]
  },
  {
   "cell_type": "code",
   "execution_count": 10,
   "metadata": {},
   "outputs": [
    {
     "output_type": "stream",
     "text": [
      "\u001b[0;31mSignature:\u001b[0m \u001b[0madd_numbers\u001b[0m\u001b[0;34m(\u001b[0m\u001b[0ma\u001b[0m\u001b[0;34m,\u001b[0m \u001b[0mb\u001b[0m\u001b[0;34m)\u001b[0m\u001b[0;34m\u001b[0m\u001b[0;34m\u001b[0m\u001b[0m\n",
      "\u001b[0;31mSource:\u001b[0m   \n",
      "\u001b[0;32mdef\u001b[0m \u001b[0madd_numbers\u001b[0m\u001b[0;34m(\u001b[0m\u001b[0ma\u001b[0m\u001b[0;34m,\u001b[0m\u001b[0mb\u001b[0m\u001b[0;34m)\u001b[0m\u001b[0;34m:\u001b[0m\u001b[0;34m\u001b[0m\n",
      "\u001b[0;34m\u001b[0m    \u001b[0;34m'''\u001b[0m\n",
      "\u001b[0;34m    Add two numbers together\u001b[0m\n",
      "\u001b[0;34m\u001b[0m\n",
      "\u001b[0;34m    Returns\u001b[0m\n",
      "\u001b[0;34m    _____\u001b[0m\n",
      "\u001b[0;34m    the_sum: type of arguments\u001b[0m\n",
      "\u001b[0;34m    '''\u001b[0m\u001b[0;34m\u001b[0m\n",
      "\u001b[0;34m\u001b[0m    \u001b[0;32mreturn\u001b[0m \u001b[0ma\u001b[0m \u001b[0;34m+\u001b[0m \u001b[0mb\u001b[0m\u001b[0;34m\u001b[0m\u001b[0;34m\u001b[0m\u001b[0m\n",
      "\u001b[0;31mFile:\u001b[0m      ~/Documentos/stuPy/<ipython-input-8-1250c2acd814>\n",
      "\u001b[0;31mType:\u001b[0m      function\n"
     ],
     "name": "stdout"
    }
   ],
   "source": [
    "add_numbers??"
   ]
  },
  {
   "cell_type": "code",
   "execution_count": 15,
   "metadata": {},
   "outputs": [
    {
     "output_type": "stream",
     "text": [],
     "name": "stdout"
    }
   ],
   "source": [
    "np.*load*?"
   ]
  },
  {
   "cell_type": "code",
   "execution_count": 1,
   "metadata": {},
   "outputs": [],
   "source": [
    "# Comando %run\n",
    "%run ipython_script_test.py"
   ]
  },
  {
   "cell_type": "code",
   "execution_count": 2,
   "metadata": {},
   "outputs": [
    {
     "output_type": "execute_result",
     "data": {
      "text/plain": [
       "7.5"
      ]
     },
     "metadata": {},
     "execution_count": 2
    }
   ],
   "source": [
    "c"
   ]
  },
  {
   "cell_type": "code",
   "execution_count": 3,
   "metadata": {},
   "outputs": [
    {
     "output_type": "execute_result",
     "data": {
      "text/plain": [
       "1.4666666666666666"
      ]
     },
     "metadata": {},
     "execution_count": 3
    }
   ],
   "source": [
    "result"
   ]
  },
  {
   "cell_type": "code",
   "execution_count": 4,
   "metadata": {},
   "outputs": [],
   "source": [
    "%load ipython_script_test.py"
   ]
  },
  {
   "cell_type": "code",
   "execution_count": 5,
   "metadata": {},
   "outputs": [
    {
     "output_type": "stream",
     "text": [
      "\u001b[0;31mSignature:\u001b[0m \u001b[0mf\u001b[0m\u001b[0;34m(\u001b[0m\u001b[0mx\u001b[0m\u001b[0;34m,\u001b[0m \u001b[0my\u001b[0m\u001b[0;34m,\u001b[0m \u001b[0mz\u001b[0m\u001b[0;34m)\u001b[0m\u001b[0;34m\u001b[0m\u001b[0;34m\u001b[0m\u001b[0m\n",
      "\u001b[0;31mDocstring:\u001b[0m <no docstring>\n",
      "\u001b[0;31mFile:\u001b[0m      ~/Documentos/stuPy/dataAnalysis/ipython_script_test.py\n",
      "\u001b[0;31mType:\u001b[0m      function\n"
     ],
     "name": "stdout"
    }
   ],
   "source": [
    "f?"
   ]
  },
  {
   "cell_type": "code",
   "execution_count": 6,
   "metadata": {},
   "outputs": [
    {
     "output_type": "stream",
     "text": [
      "\u001b[0;31mSignature:\u001b[0m \u001b[0mf\u001b[0m\u001b[0;34m(\u001b[0m\u001b[0mx\u001b[0m\u001b[0;34m,\u001b[0m \u001b[0my\u001b[0m\u001b[0;34m,\u001b[0m \u001b[0mz\u001b[0m\u001b[0;34m)\u001b[0m\u001b[0;34m\u001b[0m\u001b[0;34m\u001b[0m\u001b[0m\n",
      "\u001b[0;31mDocstring:\u001b[0m <no docstring>\n",
      "\u001b[0;31mSource:\u001b[0m   \n",
      "\u001b[0;32mdef\u001b[0m \u001b[0mf\u001b[0m\u001b[0;34m(\u001b[0m\u001b[0mx\u001b[0m\u001b[0;34m,\u001b[0m\u001b[0my\u001b[0m\u001b[0;34m,\u001b[0m\u001b[0mz\u001b[0m\u001b[0;34m)\u001b[0m\u001b[0;34m:\u001b[0m\u001b[0;34m\u001b[0m\n",
      "\u001b[0;34m\u001b[0m    \u001b[0;32mreturn\u001b[0m \u001b[0;34m(\u001b[0m\u001b[0mx\u001b[0m\u001b[0;34m+\u001b[0m\u001b[0my\u001b[0m\u001b[0;34m)\u001b[0m\u001b[0;34m/\u001b[0m\u001b[0mz\u001b[0m\u001b[0;34m\u001b[0m\u001b[0;34m\u001b[0m\u001b[0m\n",
      "\u001b[0;31mFile:\u001b[0m      ~/Documentos/stuPy/dataAnalysis/ipython_script_test.py\n",
      "\u001b[0;31mType:\u001b[0m      function\n"
     ],
     "name": "stdout"
    }
   ],
   "source": [
    "f??"
   ]
  },
  {
   "cell_type": "code",
   "execution_count": 9,
   "metadata": {},
   "outputs": [],
   "source": [
    "# Executando código da área de transferência\n",
    "x = 5\n",
    "y = 7\n",
    "if x > 5:\n",
    "    x += 1\n",
    "    y = 8"
   ]
  },
  {
   "cell_type": "code",
   "execution_count": 12,
   "metadata": {},
   "outputs": [
    {
     "output_type": "stream",
     "name": "stdout",
     "text": [
      "388 µs ± 139 µs per loop (mean ± std. dev. of 7 runs, 1 loop each)\n"
     ]
    }
   ],
   "source": [
    "# Sobre comandos mágicos (%comando)\n",
    "import numpy as np\n",
    "a = np.random.randn(100,100)\n",
    "%timeit np.dot(a,a)"
   ]
  },
  {
   "cell_type": "code",
   "execution_count": 13,
   "metadata": {},
   "outputs": [
    {
     "output_type": "stream",
     "text": [
      "\u001b[0;31mDocstring:\u001b[0m\n",
      "::\n",
      "\n",
      "  %debug [--breakpoint FILE:LINE] [statement [statement ...]]\n",
      "\n",
      "Activate the interactive debugger.\n",
      "\n",
      "This magic command support two ways of activating debugger.\n",
      "One is to activate debugger before executing code.  This way, you\n",
      "can set a break point, to step through the code from the point.\n",
      "You can use this mode by giving statements to execute and optionally\n",
      "a breakpoint.\n",
      "\n",
      "The other one is to activate debugger in post-mortem mode.  You can\n",
      "activate this mode simply running %debug without any argument.\n",
      "If an exception has just occurred, this lets you inspect its stack\n",
      "frames interactively.  Note that this will always work only on the last\n",
      "traceback that occurred, so you must call this quickly after an\n",
      "exception that you wish to inspect has fired, because if another one\n",
      "occurs, it clobbers the previous one.\n",
      "\n",
      "If you want IPython to automatically do this on every exception, see\n",
      "the %pdb magic for more details.\n",
      "\n",
      ".. versionchanged:: 7.3\n",
      "    When running code, user variables are no longer expanded,\n",
      "    the magic line is always left unmodified.\n",
      "\n",
      "positional arguments:\n",
      "  statement             Code to run in debugger. You can omit this in cell\n",
      "                        magic mode.\n",
      "\n",
      "optional arguments:\n",
      "  --breakpoint <FILE:LINE>, -b <FILE:LINE>\n",
      "                        Set break point at LINE in FILE.\n",
      "\u001b[0;31mFile:\u001b[0m      ~/.local/lib/python3.8/site-packages/IPython/core/magics/execution.py\n"
     ],
     "name": "stdout"
    }
   ],
   "source": [
    "%debug?"
   ]
  },
  {
   "cell_type": "code",
   "execution_count": 14,
   "metadata": {},
   "outputs": [
    {
     "output_type": "execute_result",
     "data": {
      "text/plain": [
       "'/home/fdmedina/Documentos/stuPy/dataAnalysis'"
      ]
     },
     "metadata": {},
     "execution_count": 14
    }
   ],
   "source": [
    "%pwd"
   ]
  },
  {
   "cell_type": "code",
   "execution_count": 15,
   "metadata": {},
   "outputs": [],
   "source": [
    "foo = %pwd"
   ]
  },
  {
   "cell_type": "code",
   "execution_count": 16,
   "metadata": {},
   "outputs": [
    {
     "output_type": "execute_result",
     "data": {
      "text/plain": [
       "'/home/fdmedina/Documentos/stuPy/dataAnalysis'"
      ]
     },
     "metadata": {},
     "execution_count": 16
    }
   ],
   "source": [
    "foo"
   ]
  },
  {
   "cell_type": "code",
   "execution_count": 17,
   "metadata": {},
   "outputs": [
    {
     "output_type": "stream",
     "text": [
      " it will be stored in ipython's regular output\n",
      "    cache Out[N] and in the '_N' automatic variables.\n",
      "    \n",
      "    Notes:\n",
      "    \n",
      "    1) If an input line begins with '!!', then %sx is automatically\n",
      "    invoked.  That is, while::\n",
      "    \n",
      "      !ls\n",
      "    \n",
      "    causes ipython to simply issue system('ls'), typing::\n",
      "    \n",
      "      !!ls\n",
      "    \n",
      "    is a shorthand equivalent to::\n",
      "    \n",
      "      %sx ls\n",
      "    \n",
      "    2) %sx differs from %sc in that %sx automatically splits into a list,\n",
      "    like '%sc -l'.  The reason for this is to make it as easy as possible\n",
      "    to process line-oriented shell output via further python commands.\n",
      "    %sc is meant to provide much finer control, but requires more\n",
      "    typing.\n",
      "    \n",
      "    3) Just like %sc -l, this is a list with special attributes:\n",
      "    ::\n",
      "    \n",
      "      .l (or .list) : value as list.\n",
      "      .n (or .nlstr): value as newline-separated string.\n",
      "      .s (or .spstr): value as whitespace-separated string.\n",
      "    \n",
      "    This is very useful when trying to use such lists as arguments to\n",
      "    system commands.\n",
      "%%HTML:\n",
      "    Alias for `%%html`.\n",
      "%%SVG:\n",
      "    Alias for `%%svg`.\n",
      "%%bash:\n",
      "    %%bash script magic\n",
      "    \n",
      "    Run cells with bash in a subprocess.\n",
      "    \n",
      "    This is a shortcut for `%%script bash`\n",
      "%%capture:\n",
      "    ::\n",
      "    \n",
      "      %capture [--no-stderr] [--no-stdout] [--no-display] [output]\n",
      "    \n",
      "    run the cell, capturing stdout, stderr, and IPython's rich display() calls.\n",
      "    \n",
      "    positional arguments:\n",
      "      output        The name of the variable in which to store output. This is a\n",
      "                    utils.io.CapturedIO object with stdout/err attributes for the\n",
      "                    text of the captured output. CapturedOutput also has a show()\n",
      "                    method for displaying the output, and __call__ as well, so you\n",
      "                    can use that to quickly display the output. If unspecified,\n",
      "                    captured output is discarded.\n",
      "    \n",
      "    optional arguments:\n",
      "      --no-stderr   Don't capture stderr.\n",
      "      --no-stdout   Don't capture stdout.\n",
      "      --no-display  Don't capture IPython's rich display.\n",
      "%%debug:\n",
      "    ::\n",
      "    \n",
      "      %debug [--breakpoint FILE:LINE] [statement [statement ...]]\n",
      "    \n",
      "    Activate the interactive debugger.\n",
      "    \n",
      "    This magic command support two ways of activating debugger.\n",
      "    One is to activate debugger before executing code.  This way, you\n",
      "    can set a break point, to step through the code from the point.\n",
      "    You can use this mode by giving statements to execute and optionally\n",
      "    a breakpoint.\n",
      "    \n",
      "    The other one is to activate debugger in post-mortem mode.  You can\n",
      "    activate this mode simply running %debug without any argument.\n",
      "    If an exception has just occurred, this lets you inspect its stack\n",
      "    frames interactively.  Note that this will always work only on the last\n",
      "    traceback that occurred, so you must call this quickly after an\n",
      "    exception that you wish to inspect has fired, because if another one\n",
      "    occurs, it clobbers the previous one.\n",
      "    \n",
      "    If you want IPython to automatically do this on every exception, see\n",
      "    the %pdb magic for more details.\n",
      "    \n",
      "    .. versionchanged:: 7.3\n",
      "        When running code, user variables are no longer expanded,\n",
      "        the magic line is always left unmodified.\n",
      "    \n",
      "    positional arguments:\n",
      "      statement             Code to run in debugger. You can omit this in cell\n",
      "                            magic mode.\n",
      "    \n",
      "    optional arguments:\n",
      "      --breakpoint <FILE:LINE>, -b <FILE:LINE>\n",
      "                            Set break point at LINE in FILE.\n",
      "%%file:\n",
      "    Alias for `%%writefile`.\n",
      "%%html:\n",
      "    ::\n",
      "    \n",
      "      %html [--isolated]\n",
      "    \n",
      "    Render the cell as a block of HTML\n",
      "    \n",
      "    optional arguments:\n",
      "      --isolated  Annotate the cell as 'isolated'. Isolated cells are rendered\n",
      "                  inside their own <iframe> tag\n",
      "%%javascript:\n",
      "    Run the cell block of Javascript code\n",
      "%%js:\n",
      "    Run the cell block of Javascript code\n",
      "    \n",
      "    Alias of `%%javascript`\n",
      "%%latex:\n",
      "    Render the cell as a block of latex\n",
      "    \n",
      "    The subset of latex which is support depends on the implementation in\n",
      "    the client.  In the Jupyter Notebook, this magic only renders the subset\n",
      "    of latex defined by MathJax\n",
      "    [here](https://docs.mathjax.org/en/v2.5-latest/tex.html).\n",
      "%%markdown:\n",
      "    Render the cell as Markdown text block\n",
      "%%perl:\n",
      "    %%perl script magic\n",
      "    \n",
      "    Run cells with perl in a subprocess.\n",
      "    \n",
      "    This is a shortcut for `%%script perl`\n",
      "%%prun:\n",
      "    Run a statement through the python code profiler.\n",
      "    \n",
      "    Usage, in line mode:\n",
      "      %prun [options] statement\n",
      "    \n",
      "    Usage, in cell mode:\n",
      "      %%prun [options] [statement]\n",
      "      code...\n",
      "      code...\n",
      "    \n",
      "    In cell mode, the additional code lines are appended to the (possibly\n",
      "    empty) statement in the first line.  Cell mode allows you to easily\n",
      "    profile multiline blocks without having to put them in a separate\n",
      "    function.\n",
      "    \n",
      "    The given statement (which doesn't require quote marks) is run via the\n",
      "    python profiler in a manner similar to the profile.run() function.\n",
      "    Namespaces are internally managed to work correctly; profile.run\n",
      "    cannot be used in IPython because it makes certain assumptions about\n",
      "    namespaces which do not hold under IPython.\n",
      "    \n",
      "    Options:\n",
      "    \n",
      "    -l <limit>\n",
      "      you can place restrictions on what or how much of the\n",
      "      profile gets printed. The limit value can be:\n",
      "    \n",
      "         * A string: only information for function names containing this string\n",
      "           is printed.\n",
      "    \n",
      "         * An integer: only these many lines are printed.\n",
      "    \n",
      "         * A float (between 0 and 1): this fraction of the report is printed\n",
      "           (for example, use a limit of 0.4 to see the topmost 40% only).\n",
      "    \n",
      "      You can combine several limits with repeated use of the option. For\n",
      "      example, ``-l __init__ -l 5`` will print only the topmost 5 lines of\n",
      "      information about class constructors.\n",
      "    \n",
      "    -r\n",
      "      return the pstats.Stats object generated by the profiling. This\n",
      "      object has all the information about the profile in it, and you can\n",
      "      later use it for further analysis or in other functions.\n",
      "    \n",
      "    -s <key>\n",
      "      sort profile by given key. You can provide more than one key\n",
      "      by using the option several times: '-s key1 -s key2 -s key3...'. The\n",
      "      default sorting key is 'time'.\n",
      "    \n",
      "      The following is copied verbatim from the profile documentation\n",
      "      referenced below:\n",
      "    \n",
      "      When more than one key is provided, additional keys are used as\n",
      "      secondary criteria when the there is equality in all keys selected\n",
      "      before them.\n",
      "    \n",
      "      Abbreviations can be used for any key names, as long as the\n",
      "      abbreviation is unambiguous.  The following are the keys currently\n",
      "      defined:\n",
      "    \n",
      "      ============  =====================\n",
      "      Valid Arg     Meaning\n",
      "      ============  =====================\n",
      "      \"calls\"       call count\n",
      "      \"cumulative\"  cumulative time\n",
      "      \"file\"        file name\n",
      "      \"module\"      file name\n",
      "      \"pcalls\"      primitive call count\n",
      "      \"line\"        line number\n",
      "      \"name\"        function name\n",
      "      \"nfl\"         name/file/line\n",
      "      \"stdname\"     standard name\n",
      "      \"time\"        internal time\n",
      "      ============  =====================\n",
      "    \n",
      "      Note that all sorts on statistics are in descending order (placing\n",
      "      most time consuming items first), where as name, file, and line number\n",
      "      searches are in ascending order (i.e., alphabetical). The subtle\n",
      "      distinction between \"nfl\" and \"stdname\" is that the standard name is a\n",
      "      sort of the name as printed, which means that the embedded line\n",
      "      numbers get compared in an odd way.  For example, lines 3, 20, and 40\n",
      "      would (if the file names were the same) appear in the string order\n",
      "      \"20\" \"3\" and \"40\".  In contrast, \"nfl\" does a numeric compare of the\n",
      "      line numbers.  In fact, sort_stats(\"nfl\") is the same as\n",
      "      sort_stats(\"name\", \"file\", \"line\").\n",
      "    \n",
      "    -T <filename>\n",
      "      save profile results as shown on screen to a text\n",
      "      file. The profile is still shown on screen.\n",
      "    \n",
      "    -D <filename>\n",
      "      save (via dump_stats) profile statistics to given\n",
      "      filename. This data is in a format understood by the pstats module, and\n",
      "      is generated by a call to the dump_stats() method of profile\n",
      "      objects. The profile is still shown on screen.\n",
      "    \n",
      "    -q\n",
      "      suppress output to the pager.  Best used with -T and/or -D above.\n",
      "    \n",
      "    If you want to run complete programs under the profiler's control, use\n",
      "    ``%run -p [prof_opts] filename.py [args to program]`` where prof_opts\n",
      "    contains profiler specific options as described here.\n",
      "    \n",
      "    You can read the complete documentation for the profile module with::\n",
      "    \n",
      "      In [1]: import profile; profile.help()\n",
      "    \n",
      "    .. versionchanged:: 7.3\n",
      "        User variables are no longer expanded,\n",
      "        the magic line is always left unmodified.\n",
      "%%pypy:\n",
      "    %%pypy script magic\n",
      "    \n",
      "    Run cells with pypy in a subprocess.\n",
      "    \n",
      "    This is a shortcut for `%%script pypy`\n",
      "%%python:\n",
      "    %%python script magic\n",
      "    \n",
      "    Run cells with python in a subprocess.\n",
      "    \n",
      "    This is a shortcut for `%%script python`\n",
      "%%python2:\n",
      "    %%python2 script magic\n",
      "    \n",
      "    Run cells with python2 in a subprocess.\n",
      "    \n",
      "    This is a shortcut for `%%script python2`\n",
      "%%python3:\n",
      "    %%python3 script magic\n",
      "    \n",
      "    Run cells with python3 in a subprocess.\n",
      "    \n",
      "    This is a shortcut for `%%script python3`\n",
      "%%ruby:\n",
      "    %%ruby script magic\n",
      "    \n",
      "    Run cells with ruby in a subprocess.\n",
      "    \n",
      "    This is a shortcut for `%%script ruby`\n",
      "%%script:\n",
      "    ::\n",
      "    \n",
      "      %shebang [--no-raise-error] [--proc PROC] [--bg] [--err ERR] [--out OUT]\n",
      "    \n",
      "    Run a cell via a shell command\n",
      "    \n",
      "    The `%%script` line is like the #! line of script,\n",
      "    specifying a program (bash, perl, ruby, etc.) with which to run.\n",
      "    \n",
      "    The rest of the cell is run by that program.\n",
      "    \n",
      "    Examples\n",
      "    --------\n",
      "    ::\n",
      "    \n",
      "        In [1]: %%script bash\n",
      "           ...: for i in 1 2 3; do\n",
      "           ...:   echo $i\n",
      "           ...: done\n",
      "        1\n",
      "        2\n",
      "        3\n",
      "    \n",
      "    optional arguments:\n",
      "      --no-raise-error  Whether you should raise an error message in addition to a\n",
      "                        stream on stderr if you get a nonzero exit code.\n",
      "      --proc PROC       The variable in which to store Popen instance. This is\n",
      "                        used only when --bg option is given.\n",
      "      --bg              Whether to run the script in the background. If given, the\n",
      "                        only way to see the output of the command is with\n",
      "                        --out/err.\n",
      "      --err ERR         The variable in which to store stderr from the script. If\n",
      "                        the script is backgrounded, this will be the stderr\n",
      "                        *pipe*, instead of the stderr text itself and will not be\n",
      "                        autoclosed.\n",
      "      --out OUT         The variable in which to store stdout from the script. If\n",
      "                        the script is backgrounded, this will be the stdout\n",
      "                        *pipe*, instead of the stderr text itself and will not be\n",
      "                        auto closed.\n",
      "%%sh:\n",
      "    %%sh script magic\n",
      "    \n",
      "    Run cells with sh in a subprocess.\n",
      "    \n",
      "    This is a shortcut for `%%script sh`\n",
      "%%svg:\n",
      "    Render the cell as an SVG literal\n",
      "%%sx:\n",
      "    Shell execute - run shell command and capture output (!! is short-hand).\n",
      "    \n",
      "    %sx command\n",
      "    \n",
      "    IPython will run the given command using commands.getoutput(), and\n",
      "    return the result formatted as a list (split on '\\n').  Since the\n",
      "    output is _returned_, it will be stored in ipython's regular output\n",
      "    cache Out[N] and in the '_N' automatic variables.\n",
      "    \n",
      "    Notes:\n",
      "    \n",
      "    1) If an input line begins with '!!', then %sx is automatically\n",
      "    invoked.  That is, while::\n",
      "    \n",
      "      !ls\n",
      "    \n",
      "    causes ipython to simply issue system('ls'), typing::\n",
      "    \n",
      "      !!ls\n",
      "    \n",
      "    is a shorthand equivalent to::\n",
      "    \n",
      "      %sx ls\n",
      "    \n",
      "    2) %sx differs from %sc in that %sx automatically splits into a list,\n",
      "    like '%sc -l'.  The reason for this is to make it as easy as possible\n",
      "    to process line-oriented shell output via further python commands.\n",
      "    %sc is meant to provide much finer control, but requires more\n",
      "    typing.\n",
      "    \n",
      "    3) Just like %sc -l, this is a list with special attributes:\n",
      "    ::\n",
      "    \n",
      "      .l (or .list) : value as list.\n",
      "      .n (or .nlstr): value as newline-separated string.\n",
      "      .s (or .spstr): value as whitespace-separated string.\n",
      "    \n",
      "    This is very useful when trying to use such lists as arguments to\n",
      "    system commands.\n",
      "%%system:\n",
      "    Shell execute - run shell command and capture output (!! is short-hand).\n",
      "    \n",
      "    %sx command\n",
      "    \n",
      "    IPython will run the given command using commands.getoutput(), and\n",
      "    return the result formatted as a list (split on '\\n').  Since the\n",
      "    output is _returned_, it will be stored in ipython's regular output\n",
      "    cache Out[N] and in the '_N' automatic variables.\n",
      "    \n",
      "    Notes:\n",
      "    \n",
      "    1) If an input line begins with '!!', then %sx is automatically\n",
      "    invoked.  That is, while::\n",
      "    \n",
      "      !ls\n",
      "    \n",
      "    causes ipython to simply issue system('ls'), typing::\n",
      "    \n",
      "      !!ls\n",
      "    \n",
      "    is a shorthand equivalent to::\n",
      "    \n",
      "      %sx ls\n",
      "    \n",
      "    2) %sx differs from %sc in that %sx automatically splits into a list,\n",
      "    like '%sc -l'.  The reason for this is to make it as easy as possible\n",
      "    to process line-oriented shell output via further python commands.\n",
      "    %sc is meant to provide much finer control, but requires more\n",
      "    typing.\n",
      "    \n",
      "    3) Just like %sc -l, this is a list with special attributes:\n",
      "    ::\n",
      "    \n",
      "      .l (or .list) : value as list.\n",
      "      .n (or .nlstr): value as newline-separated string.\n",
      "      .s (or .spstr): value as whitespace-separated string.\n",
      "    \n",
      "    This is very useful when trying to use such lists as arguments to\n",
      "    system commands.\n",
      "%%time:\n",
      "    Time execution of a Python statement or expression.\n",
      "    \n",
      "    The CPU and wall clock times are printed, and the value of the\n",
      "    expression (if any) is returned.  Note that under Win32, system time\n",
      "    is always reported as 0, since it can not be measured.\n",
      "    \n",
      "    This function can be used both as a line and cell magic:\n",
      "    \n",
      "    - In line mode you can time a single-line statement (though multiple\n",
      "      ones can be chained with using semicolons).\n",
      "    \n",
      "    - In cell mode, you can time the cell body (a directly\n",
      "      following statement raises an error).\n",
      "    \n",
      "    This function provides very basic timing functionality.  Use the timeit\n",
      "    magic for more control over the measurement.\n",
      "    \n",
      "    .. versionchanged:: 7.3\n",
      "        User variables are no longer expanded,\n",
      "        the magic line is always left unmodified.\n",
      "    \n",
      "    Examples\n",
      "    --------\n",
      "    ::\n",
      "    \n",
      "      In [1]: %time 2**128\n",
      "      CPU times: user 0.00 s, sys: 0.00 s, total: 0.00 s\n",
      "      Wall time: 0.00\n",
      "      Out[1]: 340282366920938463463374607431768211456L\n",
      "    \n",
      "      In [2]: n = 1000000\n",
      "    \n",
      "      In [3]: %time sum(range(n))\n",
      "      CPU times: user 1.20 s, sys: 0.05 s, total: 1.25 s\n",
      "      Wall time: 1.37\n",
      "      Out[3]: 499999500000L\n",
      "    \n",
      "      In [4]: %time print 'hello world'\n",
      "      hello world\n",
      "      CPU times: user 0.00 s, sys: 0.00 s, total: 0.00 s\n",
      "      Wall time: 0.00\n",
      "    \n",
      "      Note that the time needed by Python to compile the given expression\n",
      "      will be reported if it is more than 0.1s.  In this example, the\n",
      "      actual exponentiation is done by Python at compilation time, so while\n",
      "      the expression can take a noticeable amount of time to compute, that\n",
      "      time is purely due to the compilation:\n",
      "    \n",
      "      In [5]: %time 3**9999;\n",
      "      CPU times: user 0.00 s, sys: 0.00 s, total: 0.00 s\n",
      "      Wall time: 0.00 s\n",
      "    \n",
      "      In [6]: %time 3**999999;\n",
      "      CPU times: user 0.00 s, sys: 0.00 s, total: 0.00 s\n",
      "      Wall time: 0.00 s\n",
      "      Compiler : 0.78 s\n",
      "%%timeit:\n",
      "    Time execution of a Python statement or expression\n",
      "    \n",
      "    Usage, in line mode:\n",
      "      %timeit [-n<N> -r<R> [-t|-c] -q -p<P> -o] statement\n",
      "    or in cell mode:\n",
      "      %%timeit [-n<N> -r<R> [-t|-c] -q -p<P> -o] setup_code\n",
      "      code\n",
      "      code...\n",
      "    \n",
      "    Time execution of a Python statement or expression using the timeit\n",
      "    module.  This function can be used both as a line and cell magic:\n",
      "    \n",
      "    - In line mode you can time a single-line statement (though multiple\n",
      "      ones can be chained with using semicolons).\n",
      "    \n",
      "    - In cell mode, the statement in the first line is used as setup code\n",
      "      (executed but not timed) and the body of the cell is timed.  The cell\n",
      "      body has access to any variables created in the setup code.\n",
      "    \n",
      "    Options:\n",
      "    -n<N>: execute the given statement <N> times in a loop. If <N> is not\n",
      "    provided, <N> is determined so as to get sufficient accuracy.\n",
      "    \n",
      "    -r<R>: number of repeats <R>, each consisting of <N> loops, and take the\n",
      "    best result.\n",
      "    Default: 7\n",
      "    \n",
      "    -t: use time.time to measure the time, which is the default on Unix.\n",
      "    This function measures wall time.\n",
      "    \n",
      "    -c: use time.clock to measure the time, which is the default on\n",
      "    Windows and measures wall time. On Unix, resource.getrusage is used\n",
      "    instead and returns the CPU user time.\n",
      "    \n",
      "    -p<P>: use a precision of <P> digits to display the timing result.\n",
      "    Default: 3\n",
      "    \n",
      "    -q: Quiet, do not print result.\n",
      "    \n",
      "    -o: return a TimeitResult that can be stored in a variable to inspect\n",
      "        the result in more details.\n",
      "    \n",
      "    .. versionchanged:: 7.3\n",
      "        User variables are no longer expanded,\n",
      "        the magic line is always left unmodified.\n",
      "    \n",
      "    Examples\n",
      "    --------\n",
      "    ::\n",
      "    \n",
      "      In [1]: %timeit pass\n",
      "      8.26 ns ± 0.12 ns per loop (mean ± std. dev. of 7 runs, 100000000 loops each)\n",
      "    \n",
      "      In [2]: u = None\n",
      "    \n",
      "      In [3]: %timeit u is None\n",
      "      29.9 ns ± 0.643 ns per loop (mean ± std. dev. of 7 runs, 10000000 loops each)\n",
      "    \n",
      "      In [4]: %timeit -r 4 u == None\n",
      "    \n",
      "      In [5]: import time\n",
      "    \n",
      "      In [6]: %timeit -n1 time.sleep(2)\n",
      "    \n",
      "    \n",
      "    The times reported by %timeit will be slightly higher than those\n",
      "    reported by the timeit.py script when variables are accessed. This is\n",
      "    due to the fact that %timeit executes the statement in the namespace\n",
      "    of the shell, compared with timeit.py, which uses a single setup\n",
      "    statement to import function or create variables. Generally, the bias\n",
      "    does not matter as long as results from timeit.py are not mixed with\n",
      "    those from %timeit.\n",
      "%%writefile:\n",
      "    ::\n",
      "    \n",
      "      %writefile [-a] filename\n",
      "    \n",
      "    Write the contents of the cell to a file.\n",
      "    \n",
      "    The file will be overwritten unless the -a (--append) flag is specified.\n",
      "    \n",
      "    positional arguments:\n",
      "      filename      file to write\n",
      "    \n",
      "    optional arguments:\n",
      "      -a, --append  Append contents of the cell to an existing file. The file will\n",
      "                    be created if it does not exist.\n",
      "\n",
      "Summary of magic functions (from %lsmagic):\n",
      "Available line magics:\n",
      "%alias  %alias_magic  %autoawait  %autocall  %automagic  %autosave  %bookmark  %cat  %cd  %clear  %colors  %conda  %config  %connect_info  %cp  %debug  %dhist  %dirs  %doctest_mode  %ed  %edit  %env  %gui  %hist  %history  %killbgscripts  %ldir  %less  %lf  %lk  %ll  %load  %load_ext  %loadpy  %logoff  %logon  %logstart  %logstate  %logstop  %ls  %lsmagic  %lx  %macro  %magic  %man  %matplotlib  %mkdir  %more  %mv  %notebook  %page  %pastebin  %pdb  %pdef  %pdoc  %pfile  %pinfo  %pinfo2  %pip  %popd  %pprint  %precision  %prun  %psearch  %psource  %pushd  %pwd  %pycat  %pylab  %qtconsole  %quickref  %recall  %rehashx  %reload_ext  %rep  %rerun  %reset  %reset_selective  %rm  %rmdir  %run  %save  %sc  %set_env  %store  %sx  %system  %tb  %time  %timeit  %unalias  %unload_ext  %who  %who_ls  %whos  %xdel  %xmode\n",
      "\n",
      "Available cell magics:\n",
      "%%!  %%HTML  %%SVG  %%bash  %%capture  %%debug  %%file  %%html  %%javascript  %%js  %%latex  %%markdown  %%perl  %%prun  %%pypy  %%python  %%python2  %%python3  %%ruby  %%script  %%sh  %%svg  %%sx  %%system  %%time  %%timeit  %%writefile\n",
      "\n",
      "Automagic is ON, % prefix IS NOT needed for line magics."
     ],
     "name": "stdout"
    }
   ],
   "source": [
    "%magic"
   ]
  },
  {
   "cell_type": "code",
   "execution_count": 18,
   "metadata": {},
   "outputs": [
    {
     "output_type": "stream",
     "name": "stdout",
     "text": [
      "Using matplotlib backend: GTK3Agg\n"
     ]
    }
   ],
   "source": [
    "# Integração com matplotlib\n",
    "%matplotlib # iPython"
   ]
  },
  {
   "cell_type": "code",
   "execution_count": 19,
   "metadata": {},
   "outputs": [],
   "source": [
    "%matplotlib inline"
   ]
  },
  {
   "cell_type": "code",
   "execution_count": 20,
   "metadata": {},
   "outputs": [
    {
     "output_type": "execute_result",
     "data": {
      "text/plain": [
       "[<matplotlib.lines.Line2D at 0x7f0fb2476880>]"
      ]
     },
     "metadata": {},
     "execution_count": 20
    },
    {
     "output_type": "display_data",
     "data": {
      "text/plain": "<Figure size 432x288 with 1 Axes>",
      "image/svg+xml": "<?xml version=\"1.0\" encoding=\"utf-8\" standalone=\"no\"?>\n<!DOCTYPE svg PUBLIC \"-//W3C//DTD SVG 1.1//EN\"\n  \"http://www.w3.org/Graphics/SVG/1.1/DTD/svg11.dtd\">\n<!-- Created with matplotlib (https://matplotlib.org/) -->\n<svg height=\"248.518125pt\" version=\"1.1\" viewBox=\"0 0 370.942187 248.518125\" width=\"370.942187pt\" xmlns=\"http://www.w3.org/2000/svg\" xmlns:xlink=\"http://www.w3.org/1999/xlink\">\n <metadata>\n  <rdf:RDF xmlns:cc=\"http://creativecommons.org/ns#\" xmlns:dc=\"http://purl.org/dc/elements/1.1/\" xmlns:rdf=\"http://www.w3.org/1999/02/22-rdf-syntax-ns#\">\n   <cc:Work>\n    <dc:type rdf:resource=\"http://purl.org/dc/dcmitype/StillImage\"/>\n    <dc:date>2021-07-11T21:53:47.087591</dc:date>\n    <dc:format>image/svg+xml</dc:format>\n    <dc:creator>\n     <cc:Agent>\n      <dc:title>Matplotlib v3.3.4, https://matplotlib.org/</dc:title>\n     </cc:Agent>\n    </dc:creator>\n   </cc:Work>\n  </rdf:RDF>\n </metadata>\n <defs>\n  <style type=\"text/css\">*{stroke-linecap:butt;stroke-linejoin:round;}</style>\n </defs>\n <g id=\"figure_1\">\n  <g id=\"patch_1\">\n   <path d=\"M 0 248.518125 \nL 370.942187 248.518125 \nL 370.942187 0 \nL 0 0 \nz\n\" style=\"fill:none;\"/>\n  </g>\n  <g id=\"axes_1\">\n   <g id=\"patch_2\">\n    <path d=\"M 28.942188 224.64 \nL 363.742188 224.64 \nL 363.742188 7.2 \nL 28.942188 7.2 \nz\n\" style=\"fill:#ffffff;\"/>\n   </g>\n   <g id=\"matplotlib.axis_1\">\n    <g id=\"xtick_1\">\n     <g id=\"line2d_1\">\n      <defs>\n       <path d=\"M 0 0 \nL 0 3.5 \n\" id=\"m44981589af\" style=\"stroke:#000000;stroke-width:0.8;\"/>\n      </defs>\n      <g>\n       <use style=\"stroke:#000000;stroke-width:0.8;\" x=\"44.160369\" xlink:href=\"#m44981589af\" y=\"224.64\"/>\n      </g>\n     </g>\n     <g id=\"text_1\">\n      <!-- 0 -->\n      <g transform=\"translate(40.979119 239.238437)scale(0.1 -0.1)\">\n       <defs>\n        <path d=\"M 31.78125 66.40625 \nQ 24.171875 66.40625 20.328125 58.90625 \nQ 16.5 51.421875 16.5 36.375 \nQ 16.5 21.390625 20.328125 13.890625 \nQ 24.171875 6.390625 31.78125 6.390625 \nQ 39.453125 6.390625 43.28125 13.890625 \nQ 47.125 21.390625 47.125 36.375 \nQ 47.125 51.421875 43.28125 58.90625 \nQ 39.453125 66.40625 31.78125 66.40625 \nz\nM 31.78125 74.21875 \nQ 44.046875 74.21875 50.515625 64.515625 \nQ 56.984375 54.828125 56.984375 36.375 \nQ 56.984375 17.96875 50.515625 8.265625 \nQ 44.046875 -1.421875 31.78125 -1.421875 \nQ 19.53125 -1.421875 13.0625 8.265625 \nQ 6.59375 17.96875 6.59375 36.375 \nQ 6.59375 54.828125 13.0625 64.515625 \nQ 19.53125 74.21875 31.78125 74.21875 \nz\n\" id=\"DejaVuSans-48\"/>\n       </defs>\n       <use xlink:href=\"#DejaVuSans-48\"/>\n      </g>\n     </g>\n    </g>\n    <g id=\"xtick_2\">\n     <g id=\"line2d_2\">\n      <g>\n       <use style=\"stroke:#000000;stroke-width:0.8;\" x=\"106.275397\" xlink:href=\"#m44981589af\" y=\"224.64\"/>\n      </g>\n     </g>\n     <g id=\"text_2\">\n      <!-- 10 -->\n      <g transform=\"translate(99.912897 239.238437)scale(0.1 -0.1)\">\n       <defs>\n        <path d=\"M 12.40625 8.296875 \nL 28.515625 8.296875 \nL 28.515625 63.921875 \nL 10.984375 60.40625 \nL 10.984375 69.390625 \nL 28.421875 72.90625 \nL 38.28125 72.90625 \nL 38.28125 8.296875 \nL 54.390625 8.296875 \nL 54.390625 0 \nL 12.40625 0 \nz\n\" id=\"DejaVuSans-49\"/>\n       </defs>\n       <use xlink:href=\"#DejaVuSans-49\"/>\n       <use x=\"63.623047\" xlink:href=\"#DejaVuSans-48\"/>\n      </g>\n     </g>\n    </g>\n    <g id=\"xtick_3\">\n     <g id=\"line2d_3\">\n      <g>\n       <use style=\"stroke:#000000;stroke-width:0.8;\" x=\"168.390425\" xlink:href=\"#m44981589af\" y=\"224.64\"/>\n      </g>\n     </g>\n     <g id=\"text_3\">\n      <!-- 20 -->\n      <g transform=\"translate(162.027925 239.238437)scale(0.1 -0.1)\">\n       <defs>\n        <path d=\"M 19.1875 8.296875 \nL 53.609375 8.296875 \nL 53.609375 0 \nL 7.328125 0 \nL 7.328125 8.296875 \nQ 12.9375 14.109375 22.625 23.890625 \nQ 32.328125 33.6875 34.8125 36.53125 \nQ 39.546875 41.84375 41.421875 45.53125 \nQ 43.3125 49.21875 43.3125 52.78125 \nQ 43.3125 58.59375 39.234375 62.25 \nQ 35.15625 65.921875 28.609375 65.921875 \nQ 23.96875 65.921875 18.8125 64.3125 \nQ 13.671875 62.703125 7.8125 59.421875 \nL 7.8125 69.390625 \nQ 13.765625 71.78125 18.9375 73 \nQ 24.125 74.21875 28.421875 74.21875 \nQ 39.75 74.21875 46.484375 68.546875 \nQ 53.21875 62.890625 53.21875 53.421875 \nQ 53.21875 48.921875 51.53125 44.890625 \nQ 49.859375 40.875 45.40625 35.40625 \nQ 44.1875 33.984375 37.640625 27.21875 \nQ 31.109375 20.453125 19.1875 8.296875 \nz\n\" id=\"DejaVuSans-50\"/>\n       </defs>\n       <use xlink:href=\"#DejaVuSans-50\"/>\n       <use x=\"63.623047\" xlink:href=\"#DejaVuSans-48\"/>\n      </g>\n     </g>\n    </g>\n    <g id=\"xtick_4\">\n     <g id=\"line2d_4\">\n      <g>\n       <use style=\"stroke:#000000;stroke-width:0.8;\" x=\"230.505453\" xlink:href=\"#m44981589af\" y=\"224.64\"/>\n      </g>\n     </g>\n     <g id=\"text_4\">\n      <!-- 30 -->\n      <g transform=\"translate(224.142953 239.238437)scale(0.1 -0.1)\">\n       <defs>\n        <path d=\"M 40.578125 39.3125 \nQ 47.65625 37.796875 51.625 33 \nQ 55.609375 28.21875 55.609375 21.1875 \nQ 55.609375 10.40625 48.1875 4.484375 \nQ 40.765625 -1.421875 27.09375 -1.421875 \nQ 22.515625 -1.421875 17.65625 -0.515625 \nQ 12.796875 0.390625 7.625 2.203125 \nL 7.625 11.71875 \nQ 11.71875 9.328125 16.59375 8.109375 \nQ 21.484375 6.890625 26.8125 6.890625 \nQ 36.078125 6.890625 40.9375 10.546875 \nQ 45.796875 14.203125 45.796875 21.1875 \nQ 45.796875 27.640625 41.28125 31.265625 \nQ 36.765625 34.90625 28.71875 34.90625 \nL 20.21875 34.90625 \nL 20.21875 43.015625 \nL 29.109375 43.015625 \nQ 36.375 43.015625 40.234375 45.921875 \nQ 44.09375 48.828125 44.09375 54.296875 \nQ 44.09375 59.90625 40.109375 62.90625 \nQ 36.140625 65.921875 28.71875 65.921875 \nQ 24.65625 65.921875 20.015625 65.03125 \nQ 15.375 64.15625 9.8125 62.3125 \nL 9.8125 71.09375 \nQ 15.4375 72.65625 20.34375 73.4375 \nQ 25.25 74.21875 29.59375 74.21875 \nQ 40.828125 74.21875 47.359375 69.109375 \nQ 53.90625 64.015625 53.90625 55.328125 \nQ 53.90625 49.265625 50.4375 45.09375 \nQ 46.96875 40.921875 40.578125 39.3125 \nz\n\" id=\"DejaVuSans-51\"/>\n       </defs>\n       <use xlink:href=\"#DejaVuSans-51\"/>\n       <use x=\"63.623047\" xlink:href=\"#DejaVuSans-48\"/>\n      </g>\n     </g>\n    </g>\n    <g id=\"xtick_5\">\n     <g id=\"line2d_5\">\n      <g>\n       <use style=\"stroke:#000000;stroke-width:0.8;\" x=\"292.620481\" xlink:href=\"#m44981589af\" y=\"224.64\"/>\n      </g>\n     </g>\n     <g id=\"text_5\">\n      <!-- 40 -->\n      <g transform=\"translate(286.257981 239.238437)scale(0.1 -0.1)\">\n       <defs>\n        <path d=\"M 37.796875 64.3125 \nL 12.890625 25.390625 \nL 37.796875 25.390625 \nz\nM 35.203125 72.90625 \nL 47.609375 72.90625 \nL 47.609375 25.390625 \nL 58.015625 25.390625 \nL 58.015625 17.1875 \nL 47.609375 17.1875 \nL 47.609375 0 \nL 37.796875 0 \nL 37.796875 17.1875 \nL 4.890625 17.1875 \nL 4.890625 26.703125 \nz\n\" id=\"DejaVuSans-52\"/>\n       </defs>\n       <use xlink:href=\"#DejaVuSans-52\"/>\n       <use x=\"63.623047\" xlink:href=\"#DejaVuSans-48\"/>\n      </g>\n     </g>\n    </g>\n    <g id=\"xtick_6\">\n     <g id=\"line2d_6\">\n      <g>\n       <use style=\"stroke:#000000;stroke-width:0.8;\" x=\"354.735508\" xlink:href=\"#m44981589af\" y=\"224.64\"/>\n      </g>\n     </g>\n     <g id=\"text_6\">\n      <!-- 50 -->\n      <g transform=\"translate(348.373008 239.238437)scale(0.1 -0.1)\">\n       <defs>\n        <path d=\"M 10.796875 72.90625 \nL 49.515625 72.90625 \nL 49.515625 64.59375 \nL 19.828125 64.59375 \nL 19.828125 46.734375 \nQ 21.96875 47.46875 24.109375 47.828125 \nQ 26.265625 48.1875 28.421875 48.1875 \nQ 40.625 48.1875 47.75 41.5 \nQ 54.890625 34.8125 54.890625 23.390625 \nQ 54.890625 11.625 47.5625 5.09375 \nQ 40.234375 -1.421875 26.90625 -1.421875 \nQ 22.3125 -1.421875 17.546875 -0.640625 \nQ 12.796875 0.140625 7.71875 1.703125 \nL 7.71875 11.625 \nQ 12.109375 9.234375 16.796875 8.0625 \nQ 21.484375 6.890625 26.703125 6.890625 \nQ 35.15625 6.890625 40.078125 11.328125 \nQ 45.015625 15.765625 45.015625 23.390625 \nQ 45.015625 31 40.078125 35.4375 \nQ 35.15625 39.890625 26.703125 39.890625 \nQ 22.75 39.890625 18.8125 39.015625 \nQ 14.890625 38.140625 10.796875 36.28125 \nz\n\" id=\"DejaVuSans-53\"/>\n       </defs>\n       <use xlink:href=\"#DejaVuSans-53\"/>\n       <use x=\"63.623047\" xlink:href=\"#DejaVuSans-48\"/>\n      </g>\n     </g>\n    </g>\n   </g>\n   <g id=\"matplotlib.axis_2\">\n    <g id=\"ytick_1\">\n     <g id=\"line2d_7\">\n      <defs>\n       <path d=\"M 0 0 \nL -3.5 0 \n\" id=\"m0c902a3152\" style=\"stroke:#000000;stroke-width:0.8;\"/>\n      </defs>\n      <g>\n       <use style=\"stroke:#000000;stroke-width:0.8;\" x=\"28.942188\" xlink:href=\"#m0c902a3152\" y=\"210.108896\"/>\n      </g>\n     </g>\n     <g id=\"text_7\">\n      <!-- −4 -->\n      <g transform=\"translate(7.2 213.908115)scale(0.1 -0.1)\">\n       <defs>\n        <path d=\"M 10.59375 35.5 \nL 73.1875 35.5 \nL 73.1875 27.203125 \nL 10.59375 27.203125 \nz\n\" id=\"DejaVuSans-8722\"/>\n       </defs>\n       <use xlink:href=\"#DejaVuSans-8722\"/>\n       <use x=\"83.789062\" xlink:href=\"#DejaVuSans-52\"/>\n      </g>\n     </g>\n    </g>\n    <g id=\"ytick_2\">\n     <g id=\"line2d_8\">\n      <g>\n       <use style=\"stroke:#000000;stroke-width:0.8;\" x=\"28.942188\" xlink:href=\"#m0c902a3152\" y=\"178.142777\"/>\n      </g>\n     </g>\n     <g id=\"text_8\">\n      <!-- −2 -->\n      <g transform=\"translate(7.2 181.941996)scale(0.1 -0.1)\">\n       <use xlink:href=\"#DejaVuSans-8722\"/>\n       <use x=\"83.789062\" xlink:href=\"#DejaVuSans-50\"/>\n      </g>\n     </g>\n    </g>\n    <g id=\"ytick_3\">\n     <g id=\"line2d_9\">\n      <g>\n       <use style=\"stroke:#000000;stroke-width:0.8;\" x=\"28.942188\" xlink:href=\"#m0c902a3152\" y=\"146.176658\"/>\n      </g>\n     </g>\n     <g id=\"text_9\">\n      <!-- 0 -->\n      <g transform=\"translate(15.579688 149.975877)scale(0.1 -0.1)\">\n       <use xlink:href=\"#DejaVuSans-48\"/>\n      </g>\n     </g>\n    </g>\n    <g id=\"ytick_4\">\n     <g id=\"line2d_10\">\n      <g>\n       <use style=\"stroke:#000000;stroke-width:0.8;\" x=\"28.942188\" xlink:href=\"#m0c902a3152\" y=\"114.210539\"/>\n      </g>\n     </g>\n     <g id=\"text_10\">\n      <!-- 2 -->\n      <g transform=\"translate(15.579688 118.009758)scale(0.1 -0.1)\">\n       <use xlink:href=\"#DejaVuSans-50\"/>\n      </g>\n     </g>\n    </g>\n    <g id=\"ytick_5\">\n     <g id=\"line2d_11\">\n      <g>\n       <use style=\"stroke:#000000;stroke-width:0.8;\" x=\"28.942188\" xlink:href=\"#m0c902a3152\" y=\"82.24442\"/>\n      </g>\n     </g>\n     <g id=\"text_11\">\n      <!-- 4 -->\n      <g transform=\"translate(15.579688 86.043639)scale(0.1 -0.1)\">\n       <use xlink:href=\"#DejaVuSans-52\"/>\n      </g>\n     </g>\n    </g>\n    <g id=\"ytick_6\">\n     <g id=\"line2d_12\">\n      <g>\n       <use style=\"stroke:#000000;stroke-width:0.8;\" x=\"28.942188\" xlink:href=\"#m0c902a3152\" y=\"50.278301\"/>\n      </g>\n     </g>\n     <g id=\"text_12\">\n      <!-- 6 -->\n      <g transform=\"translate(15.579688 54.07752)scale(0.1 -0.1)\">\n       <defs>\n        <path d=\"M 33.015625 40.375 \nQ 26.375 40.375 22.484375 35.828125 \nQ 18.609375 31.296875 18.609375 23.390625 \nQ 18.609375 15.53125 22.484375 10.953125 \nQ 26.375 6.390625 33.015625 6.390625 \nQ 39.65625 6.390625 43.53125 10.953125 \nQ 47.40625 15.53125 47.40625 23.390625 \nQ 47.40625 31.296875 43.53125 35.828125 \nQ 39.65625 40.375 33.015625 40.375 \nz\nM 52.59375 71.296875 \nL 52.59375 62.3125 \nQ 48.875 64.0625 45.09375 64.984375 \nQ 41.3125 65.921875 37.59375 65.921875 \nQ 27.828125 65.921875 22.671875 59.328125 \nQ 17.53125 52.734375 16.796875 39.40625 \nQ 19.671875 43.65625 24.015625 45.921875 \nQ 28.375 48.1875 33.59375 48.1875 \nQ 44.578125 48.1875 50.953125 41.515625 \nQ 57.328125 34.859375 57.328125 23.390625 \nQ 57.328125 12.15625 50.6875 5.359375 \nQ 44.046875 -1.421875 33.015625 -1.421875 \nQ 20.359375 -1.421875 13.671875 8.265625 \nQ 6.984375 17.96875 6.984375 36.375 \nQ 6.984375 53.65625 15.1875 63.9375 \nQ 23.390625 74.21875 37.203125 74.21875 \nQ 40.921875 74.21875 44.703125 73.484375 \nQ 48.484375 72.75 52.59375 71.296875 \nz\n\" id=\"DejaVuSans-54\"/>\n       </defs>\n       <use xlink:href=\"#DejaVuSans-54\"/>\n      </g>\n     </g>\n    </g>\n    <g id=\"ytick_7\">\n     <g id=\"line2d_13\">\n      <g>\n       <use style=\"stroke:#000000;stroke-width:0.8;\" x=\"28.942188\" xlink:href=\"#m0c902a3152\" y=\"18.312182\"/>\n      </g>\n     </g>\n     <g id=\"text_13\">\n      <!-- 8 -->\n      <g transform=\"translate(15.579688 22.111401)scale(0.1 -0.1)\">\n       <defs>\n        <path d=\"M 31.78125 34.625 \nQ 24.75 34.625 20.71875 30.859375 \nQ 16.703125 27.09375 16.703125 20.515625 \nQ 16.703125 13.921875 20.71875 10.15625 \nQ 24.75 6.390625 31.78125 6.390625 \nQ 38.8125 6.390625 42.859375 10.171875 \nQ 46.921875 13.96875 46.921875 20.515625 \nQ 46.921875 27.09375 42.890625 30.859375 \nQ 38.875 34.625 31.78125 34.625 \nz\nM 21.921875 38.8125 \nQ 15.578125 40.375 12.03125 44.71875 \nQ 8.5 49.078125 8.5 55.328125 \nQ 8.5 64.0625 14.71875 69.140625 \nQ 20.953125 74.21875 31.78125 74.21875 \nQ 42.671875 74.21875 48.875 69.140625 \nQ 55.078125 64.0625 55.078125 55.328125 \nQ 55.078125 49.078125 51.53125 44.71875 \nQ 48 40.375 41.703125 38.8125 \nQ 48.828125 37.15625 52.796875 32.3125 \nQ 56.78125 27.484375 56.78125 20.515625 \nQ 56.78125 9.90625 50.3125 4.234375 \nQ 43.84375 -1.421875 31.78125 -1.421875 \nQ 19.734375 -1.421875 13.25 4.234375 \nQ 6.78125 9.90625 6.78125 20.515625 \nQ 6.78125 27.484375 10.78125 32.3125 \nQ 14.796875 37.15625 21.921875 38.8125 \nz\nM 18.3125 54.390625 \nQ 18.3125 48.734375 21.84375 45.5625 \nQ 25.390625 42.390625 31.78125 42.390625 \nQ 38.140625 42.390625 41.71875 45.5625 \nQ 45.3125 48.734375 45.3125 54.390625 \nQ 45.3125 60.0625 41.71875 63.234375 \nQ 38.140625 66.40625 31.78125 66.40625 \nQ 25.390625 66.40625 21.84375 63.234375 \nQ 18.3125 60.0625 18.3125 54.390625 \nz\n\" id=\"DejaVuSans-56\"/>\n       </defs>\n       <use xlink:href=\"#DejaVuSans-56\"/>\n      </g>\n     </g>\n    </g>\n   </g>\n   <g id=\"line2d_14\">\n    <path clip-path=\"url(#p61155825f0)\" d=\"M 44.160369 147.857144 \nL 50.371872 150.849475 \nL 56.583375 154.717639 \nL 62.794878 164.717475 \nL 69.00638 149.176452 \nL 75.217883 168.644665 \nL 81.429386 188.287097 \nL 87.640889 202.839983 \nL 93.852392 213.609496 \nL 100.063894 214.756364 \nL 106.275397 194.010596 \nL 112.4869 185.565983 \nL 118.698403 171.027051 \nL 124.909905 153.607823 \nL 131.121408 164.182518 \nL 137.332911 142.148355 \nL 143.544414 151.43686 \nL 149.755917 143.657079 \nL 155.967419 138.630779 \nL 162.178922 128.045876 \nL 168.390425 125.423188 \nL 174.601928 117.308758 \nL 180.813431 136.110153 \nL 187.024933 124.888731 \nL 193.236436 103.643929 \nL 199.447939 78.659022 \nL 205.659442 68.703187 \nL 211.870944 62.925871 \nL 218.082447 45.822704 \nL 224.29395 41.46255 \nL 230.505453 66.337521 \nL 236.716956 69.430356 \nL 242.928458 65.850159 \nL 249.139961 39.474063 \nL 255.351464 33.014388 \nL 261.562967 40.387493 \nL 267.77447 38.705242 \nL 273.985972 42.031485 \nL 280.197475 60.385327 \nL 286.408978 61.801199 \nL 292.620481 43.977837 \nL 298.831983 41.377287 \nL 305.043486 34.292199 \nL 311.254989 26.931388 \nL 317.466492 27.312579 \nL 323.677995 57.695743 \nL 329.889497 60.041018 \nL 336.101 33.390542 \nL 342.312503 17.083636 \nL 348.524006 31.984644 \n\" style=\"fill:none;stroke:#1f77b4;stroke-linecap:square;stroke-width:1.5;\"/>\n   </g>\n   <g id=\"patch_3\">\n    <path d=\"M 28.942188 224.64 \nL 28.942188 7.2 \n\" style=\"fill:none;stroke:#000000;stroke-linecap:square;stroke-linejoin:miter;stroke-width:0.8;\"/>\n   </g>\n   <g id=\"patch_4\">\n    <path d=\"M 363.742188 224.64 \nL 363.742188 7.2 \n\" style=\"fill:none;stroke:#000000;stroke-linecap:square;stroke-linejoin:miter;stroke-width:0.8;\"/>\n   </g>\n   <g id=\"patch_5\">\n    <path d=\"M 28.942188 224.64 \nL 363.742188 224.64 \n\" style=\"fill:none;stroke:#000000;stroke-linecap:square;stroke-linejoin:miter;stroke-width:0.8;\"/>\n   </g>\n   <g id=\"patch_6\">\n    <path d=\"M 28.942188 7.2 \nL 363.742188 7.2 \n\" style=\"fill:none;stroke:#000000;stroke-linecap:square;stroke-linejoin:miter;stroke-width:0.8;\"/>\n   </g>\n  </g>\n </g>\n <defs>\n  <clipPath id=\"p61155825f0\">\n   <rect height=\"217.44\" width=\"334.8\" x=\"28.942188\" y=\"7.2\"/>\n  </clipPath>\n </defs>\n</svg>\n",
      "image/png": "[encoded data removed]"
     },
     "metadata": {
      "needs_background": "light"
     }
    }
   ],
   "source": [
    "import matplotlib.pyplot as plt\n",
    "plt.plot(np.random.randn(50).cumsum())"
   ]
  },
  {
   "cell_type": "code",
   "execution_count": null,
   "metadata": {},
   "outputs": [],
   "source": []
  }
 ]
}